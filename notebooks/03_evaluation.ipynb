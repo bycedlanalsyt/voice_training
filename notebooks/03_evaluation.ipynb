{
  "nbformat": 4,
  "nbformat_minor": 0,
  "metadata": {
    "colab": {
      "provenance": []
    },
    "kernelspec": {
      "name": "python3",
      "display_name": "Python 3"
    },
    "language_info": {
      "name": "python"
    }
  },
  "cells": [
    {
      "cell_type": "markdown",
      "source": [
        "# 03_evaluation.ipynb  \n",
        "## Évaluation des performances du modèle  \n",
        "\n",
        "Ce notebook mesure la **qualité des transcriptions** générées par Whisper.  \n",
        "L’objectif est de comparer les performances sur différents types d’audios (propre, bruité, accentué) à l’aide de métriques comme le **WER (Word Error Rate)**.\n",
        "\n",
        "---\n",
        "\n",
        "### Étapes :\n",
        "1. Chargement des transcriptions générées par `02_transcription.ipynb`.  \n",
        "2. Chargement des vérités de référence (textes réels).  \n",
        "3. Calcul du WER pour chaque fichier.  \n",
        "4. Comparaison par catégorie (propre, bruit faible, bruit fort, accent).  \n",
        "5. Visualisation des résultats (graphique récapitulatif).  \n",
        "6. Discussion des limites et pistes d’amélioration.\n"
      ],
      "metadata": {
        "id": "hWlO9GjSRERO"
      }
    }
  ]
}
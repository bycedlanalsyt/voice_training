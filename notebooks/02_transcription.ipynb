{
  "nbformat": 4,
  "nbformat_minor": 0,
  "metadata": {
    "colab": {
      "provenance": []
    },
    "kernelspec": {
      "name": "python3",
      "display_name": "Python 3"
    },
    "language_info": {
      "name": "python"
    }
  },
  "cells": [
    {
      "cell_type": "markdown",
      "source": [
        "# 02_transcription.ipynb  \n",
        "## Transcription automatique avec Whisper  \n",
        "\n",
        "Ce notebook applique le modèle **Whisper** sur les fichiers audio préparés dans `01_data_prep.ipynb`.  \n",
        "L’objectif est de générer les transcriptions textuelles et d’observer les différences selon les conditions d’enregistrement (propre, bruit faible, bruit fort, accent).\n",
        "\n",
        "---\n",
        "\n",
        "### Étapes :\n",
        "1. Importation des bibliothèques et configuration du modèle Whisper.  \n",
        "2. Chargement des fichiers audio nettoyés depuis `data/processed/`.  \n",
        "3. Transcription automatique de chaque fichier.  \n",
        "4. Sauvegarde des transcriptions au format `.csv` (texte + chemin du fichier audio).  \n",
        "5. Visualisation de quelques exemples de résultats.\n"
      ],
      "metadata": {
        "id": "u2Es9MpCQaDZ"
      }
    }
  ]
}
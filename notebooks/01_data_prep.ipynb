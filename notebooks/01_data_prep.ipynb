{
  "nbformat": 4,
  "nbformat_minor": 0,
  "metadata": {
    "colab": {
      "provenance": []
    },
    "kernelspec": {
      "name": "python3",
      "display_name": "Python 3"
    },
    "language_info": {
      "name": "python"
    }
  },
  "cells": [
    {
      "cell_type": "markdown",
      "source": [
        "# 01_data_prep.ipynb  \n",
        "Préparation et exploration du jeu de données audio  \n",
        "Ce notebook charge, écoute et visualise les fichiers audio bruts avant traitement.\n"
      ],
      "metadata": {
        "id": "jfINPf8OP6xR"
      }
    }
  ]
}